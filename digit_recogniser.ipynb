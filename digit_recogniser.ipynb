{
 "cells": [
  {
   "cell_type": "code",
   "execution_count": 0,
   "metadata": {
    "collapsed": false
   },
   "outputs": [
   ],
   "source": [
    "import numpy as np\n",
    "import pandas as pd\n",
    "import matplotlib.pyplot as plt\n",
    "import matplotlib.cm as cm\n",
    "from sklearn import neighbors\n",
    "\n",
    "\n",
    "df = pd.read_csv(\"data.csv\", header=0)\n",
    "\n",
    "y = df[\"label\"]\n",
    "X = df.drop(\"label\", axis=1)\n",
    "\n",
    "y = np.array(y)\n",
    "X = np.array(X)\n",
    "\n",
    "y_train = y[0:1200]\n",
    "X_train = X[0:1200]\n",
    "\n",
    "y_test = y[0:1200]\n",
    "X_test = X[0:1200]\n",
    "\n",
    "classifier = neighbors.KNeighborsClassifier()\n",
    "\n",
    "print 'about to fit'\n",
    "classifier.fit(X_train, y_train)\n",
    "\n",
    "score = classifier.score(X_test, y_test)\n",
    "print 'score: ', score\n",
    "\n",
    "for i in range(10,20):\n",
    "    prediction = classifier.predict(X[i])\n",
    "    print prediction\n",
    "    reshaped_example = X[i].reshape(28,28)\n",
    "    image = plt.imshow(reshaped_example,cmap = cm.Greys_r)\n",
    "    plt.show()\n",
    "\n"
   ]
  },
  {
   "cell_type": "code",
   "execution_count": 0,
   "metadata": {
    "collapsed": false
   },
   "outputs": [
   ],
   "source": [
   ]
  }
 ],
 "metadata": {
  "kernelspec": {
   "display_name": "Python 2 (SageMath)",
   "language": "python",
   "name": "python2"
  },
  "language_info": {
   "codemirror_mode": {
    "name": "ipython",
    "version": 2
   },
   "file_extension": ".py",
   "mimetype": "text/x-python",
   "name": "python",
   "nbconvert_exporter": "python",
   "pygments_lexer": "ipython2",
   "version": "2.7.13"
  }
 },
 "nbformat": 4,
 "nbformat_minor": 0
}